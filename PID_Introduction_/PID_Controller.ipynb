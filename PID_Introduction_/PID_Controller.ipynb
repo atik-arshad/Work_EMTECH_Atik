{
 "cells": [
  {
   "cell_type": "code",
   "execution_count": 3,
   "metadata": {},
   "outputs": [
    {
     "name": "stdout",
     "output_type": "stream",
     "text": [
      "Requirement already satisfied: simple-pid in c:\\users\\atik arshad\\anaconda3\\lib\\site-packages (1.0.1)\n",
      "Note: you may need to restart the kernel to use updated packages.\n"
     ]
    }
   ],
   "source": [
    "pip install simple-pid"
   ]
  },
  {
   "cell_type": "code",
   "execution_count": 2,
   "metadata": {},
   "outputs": [
    {
     "ename": "AttributeError",
     "evalue": "type object 'PID' has no attribute 'controlled_system'",
     "output_type": "error",
     "traceback": [
      "\u001b[1;31m---------------------------------------------------------------------------\u001b[0m",
      "\u001b[1;31mAttributeError\u001b[0m                            Traceback (most recent call last)",
      "\u001b[1;32m~\\AppData\\Local\\Temp\\ipykernel_2548\\1488044506.py\u001b[0m in \u001b[0;36m<module>\u001b[1;34m\u001b[0m\n\u001b[0;32m      3\u001b[0m \u001b[1;33m\u001b[0m\u001b[0m\n\u001b[0;32m      4\u001b[0m \u001b[1;31m# Assume we have a system we want to control in controlled_system\u001b[0m\u001b[1;33m\u001b[0m\u001b[1;33m\u001b[0m\u001b[0m\n\u001b[1;32m----> 5\u001b[1;33m \u001b[0mv\u001b[0m \u001b[1;33m=\u001b[0m \u001b[0mPID\u001b[0m\u001b[1;33m.\u001b[0m\u001b[0mcontrolled_system\u001b[0m\u001b[1;33m.\u001b[0m\u001b[0mupdate\u001b[0m\u001b[1;33m(\u001b[0m\u001b[1;36m0\u001b[0m\u001b[1;33m)\u001b[0m\u001b[1;33m\u001b[0m\u001b[1;33m\u001b[0m\u001b[0m\n\u001b[0m\u001b[0;32m      6\u001b[0m \u001b[1;33m\u001b[0m\u001b[0m\n\u001b[0;32m      7\u001b[0m \u001b[1;32mwhile\u001b[0m \u001b[1;32mTrue\u001b[0m\u001b[1;33m:\u001b[0m\u001b[1;33m\u001b[0m\u001b[1;33m\u001b[0m\u001b[0m\n",
      "\u001b[1;31mAttributeError\u001b[0m: type object 'PID' has no attribute 'controlled_system'"
     ]
    }
   ],
   "source": [
    "from simple_pid import PID\n",
    "pid = PID(1, 0.1, 0.05, setpoint=1)\n",
    "\n",
    "# Assume we have a system we want to control in controlled_system\n",
    "v = PID.controlled_system.update(0)\n",
    "\n",
    "while True:\n",
    "    # Compute new output from the PID according to the systems current value\n",
    "    control = pid(v)\n",
    "    \n",
    "    # Feed the PID output to the system and get its current value\n",
    "    v = PID.controlled_system.update(control)"
   ]
  },
  {
   "cell_type": "code",
   "execution_count": 9,
   "metadata": {},
   "outputs": [],
   "source": [
    "def numbers_gen():\n",
    "    yield 0\n",
    "    yield 1\n",
    "    yield 2.7182818\n",
    "    yield 3.1415926"
   ]
  },
  {
   "cell_type": "code",
   "execution_count": 10,
   "metadata": {},
   "outputs": [],
   "source": [
    "numbers = numbers_gen()"
   ]
  },
  {
   "cell_type": "code",
   "execution_count": 11,
   "metadata": {},
   "outputs": [
    {
     "name": "stdout",
     "output_type": "stream",
     "text": [
      "0\n",
      "1\n",
      "2.7182818\n",
      "3.1415926\n"
     ]
    }
   ],
   "source": [
    "print(next(numbers))\n",
    "print(next(numbers))\n",
    "print(next(numbers))\n",
    "print(next(numbers))"
   ]
  },
  {
   "cell_type": "code",
   "execution_count": 18,
   "metadata": {},
   "outputs": [
    {
     "name": "stdout",
     "output_type": "stream",
     "text": [
      "0\n",
      "1\n",
      "2.7182818\n",
      "3.1415926\n"
     ]
    }
   ],
   "source": [
    "numbers = numbers_gen()\n",
    "print(numbers.send(None))\n",
    "print(numbers.send(None))\n",
    "print(numbers.send(None))\n",
    "print(numbers.send(None))"
   ]
  },
  {
   "cell_type": "code",
   "execution_count": 12,
   "metadata": {},
   "outputs": [],
   "source": [
    "def proportional(Kp, SP):\n",
    "    \"\"\"Creates proportional controllers with specified gain and setpoint.\"\"\"\n",
    "    MV = 0\n",
    "    while True:\n",
    "        PV = yield MV\n",
    "        MV = Kp * (SP - PV)"
   ]
  },
  {
   "cell_type": "code",
   "execution_count": 13,
   "metadata": {},
   "outputs": [
    {
     "data": {
      "text/plain": [
       "0"
      ]
     },
     "execution_count": 13,
     "metadata": {},
     "output_type": "execute_result"
    }
   ],
   "source": [
    "controller1 = proportional(10, 40)\n",
    "controller1.send(None)\n",
    "\n",
    "controller2 = proportional(1, 40)\n",
    "controller2.send(None)"
   ]
  },
  {
   "cell_type": "code",
   "execution_count": 14,
   "metadata": {},
   "outputs": [
    {
     "name": "stdout",
     "output_type": "stream",
     "text": [
      "Controller 1: MV =  50\n",
      "Controller 2: MV =  5\n"
     ]
    }
   ],
   "source": [
    "PV = 35\n",
    "\n",
    "print(\"Controller 1: MV = \", controller1.send(PV))\n",
    "print(\"Controller 2: MV = \", controller2.send(PV))"
   ]
  },
  {
   "cell_type": "code",
   "execution_count": null,
   "metadata": {},
   "outputs": [],
   "source": [
    "def PID(Kp, Ki, Kd, MV_bar=0):\n",
    "    # initialize stored data\n",
    "    e_prev = 0\n",
    "    t_prev = -100\n",
    "    I = 0\n",
    "    \n",
    "    # initial control\n",
    "    MV = MV_bar\n",
    "    \n",
    "    while True:\n",
    "        # yield MV, wait for new t, PV, SP\n",
    "        t, PV, SP = yield MV\n",
    "        \n",
    "        # PID calculations\n",
    "        e = SP - PV\n",
    "        \n",
    "        P = Kp*e\n",
    "        I = I + Ki*e*(t - t_prev)\n",
    "        D = Kd*(e - e_prev)/(t - t_prev)\n",
    "        \n",
    "        MV = MV_bar + P + I + D\n",
    "        \n",
    "        # update stored data for next iteration\n",
    "        e_prev = e\n",
    "        t_prev = t"
   ]
  },
  {
   "cell_type": "code",
   "execution_count": 16,
   "metadata": {},
   "outputs": [
    {
     "name": "stdout",
     "output_type": "stream",
     "text": [
      "Collecting tclabNote: you may need to restart the kernel to use updated packages.\n",
      "\n",
      "  Downloading tclab-0.4.9-py2.py3-none-any.whl (28 kB)\n",
      "Collecting pyserial\n",
      "  Downloading pyserial-3.5-py2.py3-none-any.whl (90 kB)\n",
      "     ---------------------------------------- 90.6/90.6 kB 1.7 MB/s eta 0:00:00\n",
      "Installing collected packages: pyserial, tclab\n",
      "Successfully installed pyserial-3.5 tclab-0.4.9\n"
     ]
    }
   ],
   "source": [
    "pip install tclab"
   ]
  },
  {
   "cell_type": "code",
   "execution_count": 21,
   "metadata": {},
   "outputs": [
    {
     "data": {
      "image/png": "[encoded data removed]",
      "text/plain": [
       "<Figure size 640x480 with 4 Axes>"
      ]
     },
     "metadata": {},
     "output_type": "display_data"
    },
    {
     "name": "stdout",
     "output_type": "stream",
     "text": [
      "TCLab Model disconnected successfully.\n"
     ]
    },
    {
     "ename": "NameError",
     "evalue": "name 'MV' is not defined",
     "output_type": "error",
     "traceback": [
      "\u001b[1;31m---------------------------------------------------------------------------\u001b[0m",
      "\u001b[1;31mNameError\u001b[0m                                 Traceback (most recent call last)",
      "\u001b[1;32m~\\AppData\\Local\\Temp\\ipykernel_2548\\4162610419.py\u001b[0m in \u001b[0;36m<module>\u001b[1;34m\u001b[0m\n\u001b[0;32m     17\u001b[0m         \u001b[0mPV\u001b[0m \u001b[1;33m=\u001b[0m \u001b[0mlab\u001b[0m\u001b[1;33m.\u001b[0m\u001b[0mT1\u001b[0m                         \u001b[1;31m# get measurement\u001b[0m\u001b[1;33m\u001b[0m\u001b[1;33m\u001b[0m\u001b[0m\n\u001b[0;32m     18\u001b[0m         \u001b[1;31m#MV = controller.send([t, PV, SP])   # compute manipulated variable\u001b[0m\u001b[1;33m\u001b[0m\u001b[1;33m\u001b[0m\u001b[0m\n\u001b[1;32m---> 19\u001b[1;33m         \u001b[0mlab\u001b[0m\u001b[1;33m.\u001b[0m\u001b[0mU1\u001b[0m \u001b[1;33m=\u001b[0m \u001b[0mMV\u001b[0m                         \u001b[1;31m# apply\u001b[0m\u001b[1;33m\u001b[0m\u001b[1;33m\u001b[0m\u001b[0m\n\u001b[0m\u001b[0;32m     20\u001b[0m         \u001b[0mp\u001b[0m\u001b[1;33m.\u001b[0m\u001b[0mupdate\u001b[0m\u001b[1;33m(\u001b[0m\u001b[0mt\u001b[0m\u001b[1;33m)\u001b[0m                         \u001b[1;31m# update information display\u001b[0m\u001b[1;33m\u001b[0m\u001b[1;33m\u001b[0m\u001b[0m\n",
      "\u001b[1;31mNameError\u001b[0m: name 'MV' is not defined"
     ]
    },
    {
     "data": {
      "image/png": "[encoded data removed]",
      "text/plain": [
       "<Figure size 640x480 with 4 Axes>"
      ]
     },
     "metadata": {},
     "output_type": "display_data"
    }
   ],
   "source": [
    "%matplotlib inline\n",
    "from tclab import clock, setup, Historian, Plotter\n",
    "\n",
    "TCLab = setup(connected=False, speedup=10)\n",
    "\n",
    "controller = PID(2, 0.1, 2)        # create pid control\n",
    "controller.send(None)              # initialize\n",
    "\n",
    "tfinal = 800\n",
    "\n",
    "with TCLab() as lab:\n",
    "    h = Historian([('SP', lambda: SP), ('T1', lambda: lab.T1), ('MV', lambda: MV), ('Q1', lab.Q1)])\n",
    "    p = Plotter(h, tfinal)\n",
    "    T1 = lab.T1\n",
    "    for t in clock(tfinal, 2):\n",
    "        SP = T1 if t < 50 else 50           # get setpoint\n",
    "        PV = lab.T1                         # get measurement\n",
    "        MV = controller.send([t, PV, SP])   # compute manipulated variable\n",
    "        lab.U1 = MV                         # apply \n",
    "        p.update(t)                         # update information display"
   ]
  }
 ],
 "metadata": {
  "kernelspec": {
   "display_name": "base",
   "language": "python",
   "name": "python3"
  },
  "language_info": {
   "codemirror_mode": {
    "name": "ipython",
    "version": 3
   },
   "file_extension": ".py",
   "mimetype": "text/x-python",
   "name": "python",
   "nbconvert_exporter": "python",
   "pygments_lexer": "ipython3",
   "version": "3.9.13"
  },
  "orig_nbformat": 4
 },
 "nbformat": 4,
 "nbformat_minor": 2
}
